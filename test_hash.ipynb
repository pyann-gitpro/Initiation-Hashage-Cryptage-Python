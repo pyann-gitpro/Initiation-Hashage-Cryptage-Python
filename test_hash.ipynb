{
 "cells": [
  {
   "cell_type": "markdown",
   "metadata": {},
   "source": [
    "# HASHAGE\n",
    "\n",
    "## Algorithme\n",
    "---\n",
    "Utilise des algorithmes comme PBKDF2 qui sont bien adaptés au hashage sécurisé de mots de passe.\n",
    "## Propriétés\n",
    "---\n",
    "Unidirectionnel, avec une vérification par comparaison sans jamais révéler le mot de passe original.\n",
    "## Objectif\n",
    "---\n",
    "Protection des mots de passe, pour qu'ils ne soient jamais stockés en clair.\n",
    "\n"
   ]
  },
  {
   "cell_type": "code",
   "execution_count": 2,
   "metadata": {},
   "outputs": [],
   "source": [
    "from werkzeug.security import generate_password_hash\n",
    "from werkzeug.security import check_password_hash"
   ]
  },
  {
   "cell_type": "code",
   "execution_count": 10,
   "metadata": {},
   "outputs": [
    {
     "name": "stdout",
     "output_type": "stream",
     "text": [
      "pbkdf2:sha256:600000$HuyI2CK4JaTLU6Kv$98d33510d13798e08c4ce71ae2202908a5d9419e9f2df1493109486d5bbf80ae\n"
     ]
    }
   ],
   "source": [
    "mot_de_passe = \"monMotDePasse\"\n",
    "mot_de_passe_hash = generate_password_hash(mot_de_passe)\n",
    "print(mot_de_passe_hash)\n"
   ]
  },
  {
   "cell_type": "code",
   "execution_count": 13,
   "metadata": {},
   "outputs": [
    {
     "name": "stdout",
     "output_type": "stream",
     "text": [
      "pas ok\n"
     ]
    }
   ],
   "source": [
    "mot_de_passe_test = \"monMotdepasse\"\n",
    "if check_password_hash(mot_de_passe_hash, mot_de_passe_test):\n",
    "    print(\"ok\")\n",
    "else:\n",
    "    print(\"pas ok\")"
   ]
  },
  {
   "cell_type": "code",
   "execution_count": 14,
   "metadata": {},
   "outputs": [
    {
     "name": "stdout",
     "output_type": "stream",
     "text": [
      "ok\n"
     ]
    }
   ],
   "source": [
    "mot_de_passe_test = \"monMotDePasse\"\n",
    "if check_password_hash(mot_de_passe_hash, mot_de_passe_test):\n",
    "    print(\"ok\")\n",
    "else:\n",
    "    print(\"pas ok\")"
   ]
  }
 ],
 "metadata": {
  "kernelspec": {
   "display_name": "base",
   "language": "python",
   "name": "python3"
  },
  "language_info": {
   "codemirror_mode": {
    "name": "ipython",
    "version": 3
   },
   "file_extension": ".py",
   "mimetype": "text/x-python",
   "name": "python",
   "nbconvert_exporter": "python",
   "pygments_lexer": "ipython3",
   "version": "3.9.12"
  }
 },
 "nbformat": 4,
 "nbformat_minor": 2
}
