{
 "cells": [
  {
   "cell_type": "markdown",
   "metadata": {},
   "source": [
    "# CRYPTAGE\n",
    "\n",
    "## Librairies\n",
    "\n",
    "`cryptography.fernet`\n",
    "\n",
    "## Algorithme\n",
    "\n",
    "AES (Advanced Encryption Standard) avec des clés de 128 bits\n",
    "\n",
    "## Propriétés\n",
    "\n",
    "Permet de chiffrer et déchiffrer des messages. Le message chiffré peut être déchiffré si on possède la clé de chiffrement.\n",
    "\n",
    "## Objectif\n",
    "\n",
    "Protection des données (ici, le mot de passe) tout en permettant la récupération de ces données.\n"
   ]
  },
  {
   "cell_type": "markdown",
   "metadata": {},
   "source": [
    "## la classe Fernet\n",
    "\n",
    "> `Fernet` est une classe de la librairie cryptography, utilisée pour le chiffrement symétrique. Cela signifie que le chiffrement et le déchiffrement utilisent la même clé\n",
    "> `Fernet` garantit que les données chiffrées sont sécurisées et ne peuvent être modifiées ou décryptées sans la bonne clé."
   ]
  },
  {
   "cell_type": "code",
   "execution_count": null,
   "metadata": {},
   "outputs": [],
   "source": [
    "from cryptography.fernet import Fernet\n",
    "\n",
    "# Générer une clé de cryptage\n",
    "key = Fernet.generate_key()\n",
    "cipher_suite = Fernet(key)\n",
    "\n",
    "# Chiffrement du mot de passe\n",
    "mot_de_passe = \"monMotDePasse\"\n",
    "mot_de_passe_chiffre = cipher_suite.encrypt(mot_de_passe.encode())\n",
    "print(\"Mot de passe chiffré:\", mot_de_passe_chiffre)\n",
    "\n",
    "# Déchiffrement du mot de passe\n",
    "mot_de_passe_dechiffre = cipher_suite.decrypt(mot_de_passe_chiffre).decode()\n",
    "print(\"Mot de passe déchiffré:\", mot_de_passe_dechiffre)\n"
   ]
  },
  {
   "cell_type": "markdown",
   "metadata": {},
   "source": [
    "## OUT\n",
    "---\n",
    "```python\n",
    "Mot de passe chiffré: b'gAAAAABm7CQz79KOlUSdeRVZqgxAFFlF1kPIkqk9NusmcA5wDkj9rrXwsRQOUM-bUjOhdxTTLglQJkPkCQ3m3oke0mOV2RIxtw=='\n",
    "Mot de passe déchiffré: monMotDePasse\n",
    "\n",
    "```"
   ]
  }
 ],
 "metadata": {
  "kernelspec": {
   "display_name": ".venv",
   "language": "python",
   "name": "python3"
  },
  "language_info": {
   "codemirror_mode": {
    "name": "ipython",
    "version": 3
   },
   "file_extension": ".py",
   "mimetype": "text/x-python",
   "name": "python",
   "nbconvert_exporter": "python",
   "pygments_lexer": "ipython3",
   "version": "3.12.4"
  }
 },
 "nbformat": 4,
 "nbformat_minor": 2
}
